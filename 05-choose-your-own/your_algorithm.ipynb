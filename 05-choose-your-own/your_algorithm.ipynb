{
  "cells": [
    {
      "cell_type": "code",
      "execution_count": 1,
      "metadata": {
        "id": "0cjTQ9_XAXRR",
        "outputId": "a82d289c-b206-4c13-f9a8-fef51752c5fb",
        "colab": {
          "base_uri": "https://localhost:8080/",
          "height": 356
        }
      },
      "outputs": [
        {
          "output_type": "error",
          "ename": "ModuleNotFoundError",
          "evalue": "ignored",
          "traceback": [
            "\u001b[0;31m---------------------------------------------------------------------------\u001b[0m",
            "\u001b[0;31mModuleNotFoundError\u001b[0m                       Traceback (most recent call last)",
            "\u001b[0;32m<ipython-input-1-7760dc525718>\u001b[0m in \u001b[0;36m<module>\u001b[0;34m\u001b[0m\n\u001b[1;32m      1\u001b[0m \u001b[0;32mimport\u001b[0m \u001b[0mmatplotlib\u001b[0m\u001b[0;34m.\u001b[0m\u001b[0mpyplot\u001b[0m \u001b[0;32mas\u001b[0m \u001b[0mplt\u001b[0m\u001b[0;34m\u001b[0m\u001b[0;34m\u001b[0m\u001b[0m\n\u001b[1;32m      2\u001b[0m \u001b[0;34m\u001b[0m\u001b[0m\n\u001b[0;32m----> 3\u001b[0;31m \u001b[0;32mfrom\u001b[0m \u001b[0mprep_terrain_data\u001b[0m \u001b[0;32mimport\u001b[0m \u001b[0mmake_terrain_data\u001b[0m\u001b[0;34m\u001b[0m\u001b[0;34m\u001b[0m\u001b[0m\n\u001b[0m\u001b[1;32m      4\u001b[0m \u001b[0;32mfrom\u001b[0m \u001b[0mclass_vis\u001b[0m \u001b[0;32mimport\u001b[0m \u001b[0mpretty_picture\u001b[0m\u001b[0;34m\u001b[0m\u001b[0;34m\u001b[0m\u001b[0m\n",
            "\u001b[0;31mModuleNotFoundError\u001b[0m: No module named 'prep_terrain_data'",
            "",
            "\u001b[0;31m---------------------------------------------------------------------------\u001b[0;32m\nNOTE: If your import is failing due to a missing package, you can\nmanually install dependencies using either !pip or !apt.\n\nTo view examples of installing some common dependencies, click the\n\"Open Examples\" button below.\n\u001b[0;31m---------------------------------------------------------------------------\u001b[0m\n"
          ],
          "errorDetails": {
            "actions": [
              {
                "action": "open_url",
                "actionText": "Open Examples",
                "url": "/notebooks/snippets/importing_libraries.ipynb"
              }
            ]
          }
        }
      ],
      "source": [
        "import matplotlib.pyplot as plt\n",
        "\n",
        "from prep_terrain_data import make_terrain_data\n",
        "from class_vis import pretty_picture"
      ]
    },
    {
      "cell_type": "code",
      "execution_count": null,
      "metadata": {
        "id": "f4bRw3rTAXRS"
      },
      "outputs": [],
      "source": [
        "features_train, labels_train, features_test, labels_test = make_terrain_data()"
      ]
    },
    {
      "cell_type": "markdown",
      "metadata": {
        "id": "plcbZ-SBAXRT"
      },
      "source": [
        "the training data (`features_train`, `labels_train`) have both `\"fast\"` and `\"slow\"` points mixed together --- separate them so we can give them different colors in the scatterplot and identify them visually"
      ]
    },
    {
      "cell_type": "code",
      "execution_count": null,
      "metadata": {
        "id": "N2fK7lhEAXRV"
      },
      "outputs": [],
      "source": [
        "grade_fast = [features_train[ii][0] for ii in range(0, len(features_train)) if labels_train[ii] == 0]\n",
        "bumpy_fast = [features_train[ii][1] for ii in range(0, len(features_train)) if labels_train[ii] == 0]\n",
        "grade_slow = [features_train[ii][0] for ii in range(0, len(features_train)) if labels_train[ii] == 1]\n",
        "bumpy_slow = [features_train[ii][1] for ii in range(0, len(features_train)) if labels_train[ii] == 1]"
      ]
    },
    {
      "cell_type": "markdown",
      "metadata": {
        "id": "uep-TYWqAXRW"
      },
      "source": [
        "initial visualization"
      ]
    },
    {
      "cell_type": "code",
      "execution_count": null,
      "metadata": {
        "id": "VoQyK-iCAXRX"
      },
      "outputs": [],
      "source": [
        "plt.xlim(0.0, 1.0)\n",
        "plt.ylim(0.0, 1.0)\n",
        "plt.scatter(bumpy_fast, grade_fast, color = \"b\", label=\"fast\")\n",
        "plt.scatter(grade_slow, bumpy_slow, color = \"r\", label=\"slow\")\n",
        "plt.legend()\n",
        "plt.xlabel(\"bumpiness\")\n",
        "plt.ylabel(\"grade\")\n",
        "plt.show()"
      ]
    },
    {
      "cell_type": "markdown",
      "metadata": {
        "id": "9IuNmLs_AXRX"
      },
      "source": [
        "## ↓↓↓ Your Code Goes Here ↓↓↓"
      ]
    },
    {
      "cell_type": "markdown",
      "metadata": {
        "id": "b53mKMZnAXRY"
      },
      "source": [
        "name your classifier object `clf` if you want the visualization code `pretty_picture` to show you the decision boundary"
      ]
    },
    {
      "cell_type": "code",
      "execution_count": null,
      "metadata": {
        "id": "Ul7yWWmcAXRY"
      },
      "outputs": [],
      "source": [
        ""
      ]
    },
    {
      "cell_type": "code",
      "execution_count": null,
      "metadata": {
        "id": "65f1E4zwAXRZ"
      },
      "outputs": [],
      "source": [
        "try:\n",
        "    pretty_picture(clf, features_test, labels_test)\n",
        "except NameError:\n",
        "    pass"
      ]
    }
  ],
  "metadata": {
    "kernelspec": {
      "display_name": "Python 3",
      "language": "python",
      "name": "python3"
    },
    "language_info": {
      "codemirror_mode": {
        "name": "ipython",
        "version": 3
      },
      "file_extension": ".py",
      "mimetype": "text/x-python",
      "name": "python",
      "nbconvert_exporter": "python",
      "pygments_lexer": "ipython3",
      "version": "3.8.2"
    },
    "colab": {
      "provenance": []
    }
  },
  "nbformat": 4,
  "nbformat_minor": 0
}